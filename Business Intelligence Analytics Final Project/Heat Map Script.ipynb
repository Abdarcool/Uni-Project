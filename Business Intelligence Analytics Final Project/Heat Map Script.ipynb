{
 "cells": [
  {
   "cell_type": "code",
   "execution_count": 1,
   "metadata": {},
   "outputs": [],
   "source": [
    "import pandas as pd\n",
    "import numpy as np\n",
    "import pydata_google_auth\n",
    "import plotly.express as px\n",
    "\n",
    "SCOPES = [\n",
    "    'https://www.googleapis.com/auth/cloud-platform',\n",
    "    'https://www.googleapis.com/auth/drive',\n",
    "]\n",
    "\n",
    "credentials = pydata_google_auth.get_user_credentials(\n",
    "    SCOPES,\n",
    "    auth_local_webserver=True,\n",
    ")"
   ]
  },
  {
   "cell_type": "code",
   "execution_count": 2,
   "metadata": {},
   "outputs": [],
   "source": [
    "query = '''\n",
    "WITH finalized_dataset AS\n",
    "(\n",
    "  WITH unfiltered_dataset AS\n",
    "  (\n",
    "    SELECT *\n",
    "    FROM bigquery-public-data.chicago_taxi_trips.taxi_trips \n",
    "    WHERE \n",
    "      unique_key IS NOT NULL\n",
    "      AND taxi_id IS NOT NULL\n",
    "      AND trip_start_timestamp IS NOT NULL\n",
    "      AND trip_start_timestamp IS NOT NULL\n",
    "      AND trip_end_timestamp IS NOT NULL\n",
    "      AND trip_seconds IS NOT NULL\n",
    "      AND trip_seconds <> 0 -- Outlier\n",
    "      AND trip_miles IS NOT NULL\n",
    "      AND trip_miles <> 0 -- Outlier\n",
    "      AND pickup_census_tract IS NOT NULL\n",
    "      AND dropoff_census_tract IS NOT NULL\n",
    "      AND pickup_community_area IS NOT NULL\n",
    "      AND dropoff_community_area IS NOT NULL\n",
    "      AND fare IS NOT NULL\n",
    "      AND fare <> 0 -- Outlier\n",
    "      AND tips IS NOT NULL\n",
    "      AND tolls IS NOT NULL\n",
    "      AND extras IS NOT NULL\n",
    "      AND trip_total IS NOT NULL\n",
    "      AND trip_total <> 0 -- Outlier\n",
    "      AND payment_type IS NOT NULL\n",
    "      AND company IS NOT NULL\n",
    "      AND pickup_latitude IS NOT NULL\n",
    "      AND pickup_longitude IS NOT NULL\n",
    "      AND pickup_location IS NOT NULL\n",
    "      AND dropoff_latitude IS NOT NULL\n",
    "      AND dropoff_longitude IS NOT NULL\n",
    "      AND dropoff_location IS NOT NULL\n",
    "      AND TIMESTAMP_DIFF(trip_end_timestamp, trip_start_timestamp, SECOND) = trip_seconds\n",
    "  )\n",
    "\n",
    "  , unfiltered_dataset_2 AS\n",
    "  (\n",
    "    SELECT\n",
    "    company,\n",
    "    COUNT(unique_key) cnt_trip\n",
    "    FROM unfiltered_dataset\n",
    "    GROUP BY 1\n",
    "    order by 2 desc\n",
    "    limit 10\n",
    "  )\n",
    "\n",
    "  SELECT * FROM unfiltered_dataset\n",
    "  WHERE company IN\n",
    "  (\n",
    "    SELECT company FROM unfiltered_dataset_2\n",
    "  )\n",
    ")\n",
    "\n",
    ", transform AS\n",
    "(\n",
    "  SELECT\n",
    "  pickup_longitude long,\n",
    "  pickup_latitude lat,\n",
    "  COUNT(*) AS count,\n",
    "  FROM finalized_dataset\n",
    "  GROUP BY 1,2\n",
    "  -- HAVING COUNT(*) > 1\n",
    ")\n",
    "\n",
    "SELECT * FROM transform\n",
    "'''\n",
    "\n",
    "df = pd.read_gbq(query,\n",
    "                    project_id='data-gojek-access',\n",
    "                    dialect=\"standard\",\n",
    "                    credentials=credentials)\n",
    "df"
   ]
  },
  {
   "cell_type": "code",
   "execution_count": null,
   "metadata": {},
   "outputs": [],
   "source": [
    "df.head()"
   ]
  },
  {
   "cell_type": "code",
   "execution_count": null,
   "metadata": {},
   "outputs": [],
   "source": [
    "fig = px.density_mapbox(df, lat='lat', lon='long', z='count',\n",
    "                        mapbox_style=\"stamen-terrain\")\n",
    " \n",
    "fig"
   ]
  }
 ],
 "metadata": {
  "kernelspec": {
   "display_name": "Python 3.9.12 ('base')",
   "language": "python",
   "name": "python3"
  },
  "language_info": {
   "codemirror_mode": {
    "name": "ipython",
    "version": 3
   },
   "file_extension": ".py",
   "mimetype": "text/x-python",
   "name": "python",
   "nbconvert_exporter": "python",
   "pygments_lexer": "ipython3",
   "version": "3.9.12"
  },
  "orig_nbformat": 4,
  "vscode": {
   "interpreter": {
    "hash": "afa3904a7fc2fa579877071ed74d7bc847a7f4169945f21a74a3cb627a08c945"
   }
  }
 },
 "nbformat": 4,
 "nbformat_minor": 2
}
